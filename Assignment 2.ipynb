{
 "cells": [
  {
   "cell_type": "code",
   "execution_count": 1,
   "metadata": {},
   "outputs": [
    {
     "name": "stdout",
     "output_type": "stream",
     "text": [
      "1\n",
      "2\n",
      "3\n",
      "4\n",
      "5\n",
      "6\n",
      "7\n",
      "8\n",
      "9\n",
      "10\n",
      "[2, 4, 6, 8, 10]\n"
     ]
    }
   ],
   "source": [
    "# Solution 1\n",
    "L1=[]\n",
    "for i in range(10):\n",
    "    number=int(input())\n",
    "    if number%2==0:\n",
    "        L1.append(number)\n",
    "print(L1)\n"
   ]
  },
  {
   "cell_type": "code",
   "execution_count": 4,
   "metadata": {},
   "outputs": [
    {
     "name": "stdout",
     "output_type": "stream",
     "text": [
      "['p', 'y', 't', 'h', 'o', 'n']\n",
      "[3, 6, 9, 12, 15, 18]\n",
      "[0, 1, 4, 9, 16, 25, 36, 49, 64, 81]\n"
     ]
    }
   ],
   "source": [
    "# Solution 2\n",
    "# List comprehensions are used for creating new lists from other iterables.\n",
    "letters=[x for x in \"python\"]\n",
    "print(letters)\n",
    "\n",
    "number_list=[x for x in range(1,20) if x%3==0]\n",
    "print(number_list)\n",
    "\n",
    "squares=[i*i for i in range(10)]\n",
    "print(squares)"
   ]
  },
  {
   "cell_type": "code",
   "execution_count": 7,
   "metadata": {},
   "outputs": [
    {
     "name": "stdout",
     "output_type": "stream",
     "text": [
      "8\n",
      "{1: 1, 2: 4, 3: 9, 4: 16, 5: 25, 6: 36, 7: 49, 8: 64}\n"
     ]
    }
   ],
   "source": [
    "# Solution 3\n",
    "n=int(input())\n",
    "d=dict()\n",
    "for i in range(1,n+1):\n",
    "    d[i]=i*i\n",
    "print(d)"
   ]
  },
  {
   "cell_type": "code",
   "execution_count": 10,
   "metadata": {},
   "outputs": [
    {
     "name": "stdout",
     "output_type": "stream",
     "text": [
      "4\n",
      "UP 5\n",
      "DOWN 3\n",
      "LEFT 3\n",
      "RIGHT 2\n",
      "2\n"
     ]
    }
   ],
   "source": [
    "# Solution 4\n",
    "import math\n",
    "n=int(input())\n",
    "x,y=0,0\n",
    "x1,y1=0,0\n",
    "for i in range(n):\n",
    "    direction=input().split(\" \")\n",
    "    if direction[0]==\"UP\":\n",
    "        y1 += int(direction[1])\n",
    "    elif direction[0]==\"DOWN\":\n",
    "        y1 -= int(direction[1])\n",
    "    elif direction[0]==\"RIGHT\":\n",
    "        x1 += int(direction[1])\n",
    "    elif direction[0]==\"LEFT\":\n",
    "        x1 -= int(direction[1])\n",
    "print(round(math.sqrt((x1**2)+(y1**2))))"
   ]
  },
  {
   "cell_type": "code",
   "execution_count": null,
   "metadata": {},
   "outputs": [],
   "source": []
  }
 ],
 "metadata": {
  "kernelspec": {
   "display_name": "Python 3",
   "language": "python",
   "name": "python3"
  },
  "language_info": {
   "codemirror_mode": {
    "name": "ipython",
    "version": 3
   },
   "file_extension": ".py",
   "mimetype": "text/x-python",
   "name": "python",
   "nbconvert_exporter": "python",
   "pygments_lexer": "ipython3",
   "version": "3.8.3"
  }
 },
 "nbformat": 4,
 "nbformat_minor": 4
}
