{
 "cells": [
  {
   "cell_type": "code",
   "execution_count": 2,
   "metadata": {},
   "outputs": [
    {
     "name": "stdout",
     "output_type": "stream",
     "text": [
      "[ 2  5  8 11 14 17 20 23 26 29 32 35 38 41 44 47 50]\n"
     ]
    }
   ],
   "source": [
    "# Solution 1\n",
    "import numpy as np\n",
    "a=np.arange(2,51,3)\n",
    "print(a)"
   ]
  },
  {
   "cell_type": "code",
   "execution_count": 2,
   "metadata": {},
   "outputs": [
    {
     "name": "stdout",
     "output_type": "stream",
     "text": [
      "values in L1 23\n",
      "values in L1 56\n",
      "values in L1 78\n",
      "values in L1 51\n",
      "values in L1 98\n",
      "values in L2 77\n",
      "values in L2 34\n",
      "values in L2 49\n",
      "values in L2 21\n",
      "values in L2 64\n",
      "[23, 56, 78, 51, 98]\n",
      "[77, 34, 49, 21, 64]\n",
      "[23 56 78 51 98]\n",
      "[77 34 49 21 64]\n",
      "Concatenatd array: [23 56 78 51 98 77 34 49 21 64]\n",
      "Sorted array: [21 23 34 49 51 56 64 77 78 98]\n"
     ]
    }
   ],
   "source": [
    "# Solution 2\n",
    "import numpy as np\n",
    "L1=[]\n",
    "L2=[]\n",
    "for i in range(5):\n",
    "    x=int(input(\"values in L1 \"))\n",
    "    L1.append(x)\n",
    "for i in range(5):\n",
    "    y=int(input(\"values in L2 \"))\n",
    "    L2.append(y)\n",
    "print(L1)\n",
    "print(L2)\n",
    "arr1=np.array(L1)\n",
    "arr2=np.array(L2)\n",
    "print(arr1)\n",
    "print(arr2)\n",
    "concat_arr=np.concatenate((arr1,arr2))\n",
    "print(\"Concatenatd array:\",concat_arr)\n",
    "sort_arr=np.sort(concat_arr)\n",
    "print(\"Sorted array:\",sort_arr)"
   ]
  },
  {
   "cell_type": "code",
   "execution_count": 6,
   "metadata": {},
   "outputs": [
    {
     "name": "stdout",
     "output_type": "stream",
     "text": [
      "No. of dimensions: 2\n",
      "Size of array: 6\n"
     ]
    }
   ],
   "source": [
    "# Solution 3\n",
    "import numpy as np\n",
    "arr=np.array([[1,2,3],[4,5,6]])\n",
    "print(\"No. of dimensions:\",arr.ndim)\n",
    "print(\"Size of array:\",arr.size)"
   ]
  },
  {
   "cell_type": "code",
   "execution_count": 2,
   "metadata": {},
   "outputs": [
    {
     "name": "stdout",
     "output_type": "stream",
     "text": [
      "[0 1 2 3 4 5 6 7 8 9]\n",
      "Shape of 1D array: (10,)\n",
      "[[0]\n",
      " [1]\n",
      " [2]\n",
      " [3]\n",
      " [4]\n",
      " [5]\n",
      " [6]\n",
      " [7]\n",
      " [8]\n",
      " [9]]\n",
      "Shape of 2D array: (10, 1)\n"
     ]
    }
   ],
   "source": [
    "# Solution 4\n",
    "import numpy as np\n",
    "arr=np.arange(10)\n",
    "print(arr)\n",
    "print(\"Shape of 1D array:\",arr.shape)\n",
    "new_arr=np.expand_dims(arr,axis=1)\n",
    "print(new_arr)\n",
    "print(\"Shape of 2D array:\",new_arr.shape)"
   ]
  },
  {
   "cell_type": "code",
   "execution_count": 16,
   "metadata": {},
   "outputs": [
    {
     "name": "stdout",
     "output_type": "stream",
     "text": [
      "Horizontal stacking: [[ 1  2  3  7  8  9]\n",
      " [ 4  5  6 10 11 12]]\n",
      "Vertical stacking: [[ 1  2  3]\n",
      " [ 4  5  6]\n",
      " [ 7  8  9]\n",
      " [10 11 12]]\n"
     ]
    }
   ],
   "source": [
    "# Solution 5\n",
    "import numpy as np\n",
    "arr1=np.matrix([[1,2,3],[4,5,6]])\n",
    "arr2=np.matrix([[7,8,9],[10,11,12]])\n",
    "print(\"Horizontal stacking:\",np.hstack((arr1,arr2)))\n",
    "print(\"Vertical stacking:\",np.vstack((arr1,arr2)))"
   ]
  },
  {
   "cell_type": "code",
   "execution_count": 4,
   "metadata": {},
   "outputs": [
    {
     "name": "stdout",
     "output_type": "stream",
     "text": [
      "[[1 2]\n",
      " [2 1]\n",
      " [3 1]\n",
      " [4 2]\n",
      " [5 2]\n",
      " [6 1]\n",
      " [7 2]\n",
      " [8 1]]\n"
     ]
    }
   ],
   "source": [
    "# Solution 6\n",
    "import numpy as np\n",
    "arr=np.array([1,4,5,7,3,5,4,8,7,6,1,2])\n",
    "unique,counts=np.unique(arr,return_counts=True)\n",
    "new_arr=np.asarray((unique,counts)).T\n",
    "print(new_arr)\n"
   ]
  },
  {
   "cell_type": "code",
   "execution_count": null,
   "metadata": {},
   "outputs": [],
   "source": []
  }
 ],
 "metadata": {
  "kernelspec": {
   "display_name": "Python 3",
   "language": "python",
   "name": "python3"
  },
  "language_info": {
   "codemirror_mode": {
    "name": "ipython",
    "version": 3
   },
   "file_extension": ".py",
   "mimetype": "text/x-python",
   "name": "python",
   "nbconvert_exporter": "python",
   "pygments_lexer": "ipython3",
   "version": "3.8.3"
  }
 },
 "nbformat": 4,
 "nbformat_minor": 4
}
